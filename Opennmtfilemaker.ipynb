{
 "cells": [
  {
   "cell_type": "code",
   "execution_count": 3,
   "metadata": {},
   "outputs": [],
   "source": [
    "#DataSet Preparation"
   ]
  },
  {
   "cell_type": "code",
   "execution_count": 1,
   "metadata": {},
   "outputs": [],
   "source": [
    "import pandas as pd\n",
    "\n",
    "import numpy as np\n",
    "\n",
    "import csv"
   ]
  },
  {
   "cell_type": "code",
   "execution_count": 20,
   "metadata": {},
   "outputs": [
    {
     "name": "stdout",
     "output_type": "stream",
     "text": [
      "(322, 2)\n",
      "[['Days', 'Leʼnjʉ'], ['Clear', 'Bwə̀tə̌'], ['Today', 'Sɛ̂nni'], ['Hours', 'Ngə̀laŋ'], ['Minutes', 'Mfenyam'], ['Seconds', 'Mfenyamnkəʼə'], ['Set Date', 'Diagtə leʼnjʉ'], ['Set Time', 'Diagtə ngə̀laŋ'], ['Choose Date', 'Ka leʼnjʉ'], ['Choose Time', 'Ka ngə̀laŋ']]\n"
     ]
    }
   ],
   "source": [
    "# To read data in source language we used encoding = utf-8\n",
    "\n",
    "with open ('Data/medumba English/english_medumba_OpenNMT/eng_med.txt' , encoding = 'utf-8' ) as f:\n",
    "\n",
    "  sentence_pair_list = [row for row in csv.reader(f, delimiter = '\\t' )]\n",
    "\n",
    "  print ( np.shape(sentence_pair_list ))\n",
    "\n",
    "  print ( sentence_pair_list[:10] )"
   ]
  },
  {
   "cell_type": "code",
   "execution_count": 21,
   "metadata": {},
   "outputs": [],
   "source": [
    "sentence_pair_Dataframe = pd.DataFrame(np.array(sentence_pair_list))\n",
    "\n",
    "# .sample(frac = 1) to shuffle sentences\n",
    "\n",
    "sentence_pair_Dataframe = sentence_pair_Dataframe.sample(frac = 1)"
   ]
  },
  {
   "cell_type": "code",
   "execution_count": 22,
   "metadata": {},
   "outputs": [
    {
     "data": {
      "text/plain": [
       "194        My grandfather is tired\n",
       "288    The kitchen has a fireplace\n",
       "188             My father is a boy\n",
       "249        What sticks is not good\n",
       "28        We go out in the morning\n",
       "Name: 0, dtype: object"
      ]
     },
     "execution_count": 22,
     "metadata": {},
     "output_type": "execute_result"
    }
   ],
   "source": [
    "source_dataset = sentence_pair_Dataframe.iloc[:,0]    # get the data of first column\n",
    "\n",
    "source_dataset.head()"
   ]
  },
  {
   "cell_type": "code",
   "execution_count": 23,
   "metadata": {},
   "outputs": [
    {
     "data": {
      "text/plain": [
       "194              Tα α zə njàm bod \n",
       "288    Fə̌ ʼmbwog ghʉ̌ tɔ̌ mbwogə \n",
       "188          Tα α bə αê mɛnmαndum \n",
       "249           Ju nəè ŋαbə kəʼ bwɔ \n",
       "28       Bαg kə ntum αê nkə̂ bnjʉ \n",
       "Name: 1, dtype: object"
      ]
     },
     "execution_count": 23,
     "metadata": {},
     "output_type": "execute_result"
    }
   ],
   "source": [
    "target_dataset = sentence_pair_Dataframe.iloc[:,1]\n",
    "\n",
    "target_dataset.head()"
   ]
  },
  {
   "cell_type": "code",
   "execution_count": 24,
   "metadata": {},
   "outputs": [],
   "source": [
    "from sklearn.model_selection import train_test_split\n",
    "\n",
    "# split complete dataset in train-test with ratio 80-20 respectively\n",
    "\n",
    "X_train, X_test, y_train, y_test = train_test_split(source_dataset, target_dataset, test_size=0.2, random_state=1)\n",
    "\n",
    " \n",
    "\n",
    "# again split train data in train-validation with 90-10 ratio respectively\n",
    "\n",
    "X_train, X_val, y_train, y_val = train_test_split(X_train, y_train, test_size=0.1, random_state=1)"
   ]
  },
  {
   "cell_type": "code",
   "execution_count": 25,
   "metadata": {},
   "outputs": [],
   "source": [
    "# export train, validation and test dataframes as text files\n",
    "\n",
    "export_csv = X_train.to_csv (r'src-train.txt' , index = None, header = False)\n",
    "\n",
    "export_csv = y_train.to_csv (r'tgt-train.txt' , index = None, header = False)\n",
    "\n",
    "export_csv = X_val.to_csv (r'src-val.txt' , index = None, header = False)\n",
    "\n",
    "export_csv = y_val.to_csv (r'tgt-val.txt' , index = None, header = False)\n",
    "\n",
    "export_csv = X_test.to_csv (r'src-test.txt' , index = None, header = False)\n",
    "\n",
    "export_csv = y_test.to_csv (r'tgt-test.txt' , index = None, header = False)"
   ]
  }
 ],
 "metadata": {
  "kernelspec": {
   "display_name": "Python 3",
   "language": "python",
   "name": "python3"
  },
  "language_info": {
   "codemirror_mode": {
    "name": "ipython",
    "version": 3
   },
   "file_extension": ".py",
   "mimetype": "text/x-python",
   "name": "python",
   "nbconvert_exporter": "python",
   "pygments_lexer": "ipython3",
   "version": "3.6.4"
  }
 },
 "nbformat": 4,
 "nbformat_minor": 2
}
